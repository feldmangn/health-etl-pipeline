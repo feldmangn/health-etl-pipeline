{
 "cells": [
  {
   "cell_type": "code",
   "execution_count": 3,
   "id": "6262c673",
   "metadata": {},
   "outputs": [
    {
     "name": "stdout",
     "output_type": "stream",
     "text": [
      "Connected to /workspaces/health-etl-pipeline/data/health.db\n"
     ]
    }
   ],
   "source": [
    "from pathlib import Path\n",
    "import sqlite3, pandas as pd\n",
    "\n",
    "#db_path = Path(__file__).resolve().parents[1] / \"data\" / \"health.db\"  # if running from repo subdir\n",
    "# Or if in a notebook, use:\n",
    "db_path = Path.cwd().parent / \"data\" / \"health.db\"\n",
    "\n",
    "con = sqlite3.connect(str(db_path))\n",
    "print(\"Connected to\", db_path)\n",
    "\n",
    "pd.read_sql(\"SELECT * FROM vw_readmit_month\", con).to_csv(\"readmit_month.csv\", index=False)\n",
    "pd.read_sql(\"SELECT * FROM vw_top_conditions\", con).to_csv(\"top_conditions.csv\", index=False)\n",
    "con.close()\n"
   ]
  },
  {
   "cell_type": "code",
   "execution_count": 4,
   "id": "039dc87e",
   "metadata": {},
   "outputs": [
    {
     "ename": "NameError",
     "evalue": "name '__file__' is not defined",
     "output_type": "error",
     "traceback": [
      "\u001b[31m---------------------------------------------------------------------------\u001b[39m",
      "\u001b[31mNameError\u001b[39m                                 Traceback (most recent call last)",
      "\u001b[36mCell\u001b[39m\u001b[36m \u001b[39m\u001b[32mIn[4]\u001b[39m\u001b[32m, line 5\u001b[39m\n\u001b[32m      2\u001b[39m \u001b[38;5;28;01mfrom\u001b[39;00m\u001b[38;5;250m \u001b[39m\u001b[34;01mpathlib\u001b[39;00m\u001b[38;5;250m \u001b[39m\u001b[38;5;28;01mimport\u001b[39;00m Path\n\u001b[32m      3\u001b[39m \u001b[38;5;28;01mimport\u001b[39;00m\u001b[38;5;250m \u001b[39m\u001b[34;01msqlite3\u001b[39;00m,\u001b[38;5;250m \u001b[39m\u001b[34;01mpandas\u001b[39;00m\u001b[38;5;250m \u001b[39m\u001b[38;5;28;01mas\u001b[39;00m\u001b[38;5;250m \u001b[39m\u001b[34;01mpd\u001b[39;00m\n\u001b[32m----> \u001b[39m\u001b[32m5\u001b[39m ROOT = Path(\u001b[34;43m__file__\u001b[39;49m).resolve().parent\n\u001b[32m      6\u001b[39m DB    = ROOT / \u001b[33m\"\u001b[39m\u001b[33mdata\u001b[39m\u001b[33m\"\u001b[39m / \u001b[33m\"\u001b[39m\u001b[33mhealth.db\u001b[39m\u001b[33m\"\u001b[39m\n\u001b[32m      7\u001b[39m OUT   = ROOT / \u001b[33m\"\u001b[39m\u001b[33mbi_exports\u001b[39m\u001b[33m\"\u001b[39m\n",
      "\u001b[31mNameError\u001b[39m: name '__file__' is not defined"
     ]
    }
   ],
   "source": [
    "# export_for_bi.py\n",
    "from pathlib import Path\n",
    "import sqlite3, pandas as pd\n",
    "\n",
    "ROOT = Path(__file__).resolve().parent\n",
    "DB    = ROOT / \"data\" / \"health.db\"\n",
    "OUT   = ROOT / \"bi_exports\"\n",
    "OUT.mkdir(exist_ok=True)\n",
    "\n",
    "con = sqlite3.connect(DB)\n",
    "\n",
    "# (Optional) see what views/tables exist\n",
    "print(pd.read_sql(\"SELECT name, type FROM sqlite_master WHERE type in ('view','table') ORDER BY type, name;\", con).head(30))\n",
    "\n",
    "# Export views if they exist; otherwise fall back to equivalent queries\n",
    "def export_sql(name, sql):\n",
    "    df = pd.read_sql(sql, con)\n",
    "    fp = OUT / f\"{name}.csv\"\n",
    "    df.to_csv(fp, index=False)\n",
    "    print(f\"Wrote {len(df):,} rows → {fp}\")\n",
    "\n",
    "# Try views first\n",
    "has_vw_readmit = pd.read_sql(\"SELECT name FROM sqlite_master WHERE type='view' AND name='vw_readmit_month';\", con).shape[0] > 0\n",
    "has_vw_topcond = pd.read_sql(\"SELECT name FROM sqlite_master WHERE type='view' AND name='vw_top_conditions';\", con).shape[0] > 0\n",
    "\n",
    "if has_vw_readmit:\n",
    "    export_sql(\"readmit_month\", \"SELECT * FROM vw_readmit_month ORDER BY month_start;\")\n",
    "else:\n",
    "    export_sql(\"readmit_month\", \"\"\"\n",
    "        WITH fe AS (\n",
    "          SELECT date(strftime('%Y-%m-01', start_date)) AS month_start,\n",
    "                 CASE WHEN was_readmit THEN 1.0 ELSE 0.0 END AS readmit\n",
    "          FROM encounters_clean\n",
    "        )\n",
    "        SELECT month_start, AVG(readmit) AS readmit_rate\n",
    "        FROM fe\n",
    "        GROUP BY month_start\n",
    "        ORDER BY month_start;\n",
    "    \"\"\")\n",
    "\n",
    "if has_vw_topcond:\n",
    "    export_sql(\"top_conditions\", \"SELECT * FROM vw_top_conditions ORDER BY patients DESC;\")\n",
    "else:\n",
    "    export_sql(\"top_conditions\", \"\"\"\n",
    "        SELECT condition_name, COUNT(DISTINCT patient_id) AS patients\n",
    "        FROM conditions_clean\n",
    "        GROUP BY condition_name\n",
    "        ORDER BY patients DESC;\n",
    "    \"\"\")\n",
    "\n",
    "# Optional: CDI slice (Maryland Diabetes crude prevalence by year)\n",
    "if pd.read_sql(\"SELECT COUNT(*) AS c FROM sqlite_master WHERE type='table' AND name='cdi';\", con)[\"c\"][0]:\n",
    "    export_sql(\"cdi_diabetes_md\", \"\"\"\n",
    "        SELECT yearstart AS year,\n",
    "               AVG(CAST(datavalue AS REAL)) AS diabetes_prevalence\n",
    "        FROM cdi\n",
    "        WHERE locationabbr='MD' AND topic='Diabetes'\n",
    "        GROUP BY year\n",
    "        ORDER BY year;\n",
    "    \"\"\")\n",
    "\n",
    "con.close()\n",
    "print(f\"CSV exports are in: {OUT}\")\n"
   ]
  }
 ],
 "metadata": {
  "kernelspec": {
   "display_name": "Python 3",
   "language": "python",
   "name": "python3"
  },
  "language_info": {
   "codemirror_mode": {
    "name": "ipython",
    "version": 3
   },
   "file_extension": ".py",
   "mimetype": "text/x-python",
   "name": "python",
   "nbconvert_exporter": "python",
   "pygments_lexer": "ipython3",
   "version": "3.12.1"
  }
 },
 "nbformat": 4,
 "nbformat_minor": 5
}
